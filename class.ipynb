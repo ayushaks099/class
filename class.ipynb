{
 "cells": [
  {
   "cell_type": "code",
   "execution_count": 10,
   "id": "2b29abdd-bcc3-4970-b509-1459385363e1",
   "metadata": {},
   "outputs": [],
   "source": [
    "class pwskills:\n",
    "    mobile_num=6290591230\n",
    "    def _init_(self,name,email):\n",
    "        self.name=name\n",
    "        self.email=email\n",
    "        @classmethod\n",
    "        def change_number(cls,mobile):\n",
    "            pwskills.mobile_num=mobile;\n",
    "        @classmethod\n",
    "        def details(cls,name,email):\n",
    "            return cls(name,email)\n",
    "        def students_details(self):\n",
    "            print(self.name,self.email)"
   ]
  },
  {
   "cell_type": "code",
   "execution_count": 11,
   "id": "c4a1e8e5-a920-4276-bc6a-6bf3949dfcbf",
   "metadata": {},
   "outputs": [
    {
     "data": {
      "text/plain": [
       "6290591230"
      ]
     },
     "execution_count": 11,
     "metadata": {},
     "output_type": "execute_result"
    }
   ],
   "source": [
    "pwskills.mobile_num"
   ]
  },
  {
   "cell_type": "code",
   "execution_count": null,
   "id": "f54922f4-d123-4c4b-8737-49a1363e132b",
   "metadata": {},
   "outputs": [],
   "source": []
  }
 ],
 "metadata": {
  "kernelspec": {
   "display_name": "Python 3 (ipykernel)",
   "language": "python",
   "name": "python3"
  },
  "language_info": {
   "codemirror_mode": {
    "name": "ipython",
    "version": 3
   },
   "file_extension": ".py",
   "mimetype": "text/x-python",
   "name": "python",
   "nbconvert_exporter": "python",
   "pygments_lexer": "ipython3",
   "version": "3.10.8"
  }
 },
 "nbformat": 4,
 "nbformat_minor": 5
}
